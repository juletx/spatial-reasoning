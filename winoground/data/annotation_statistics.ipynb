{
 "cells": [
  {
   "cell_type": "markdown",
   "id": "8166a931-baa6-4cc8-8b5d-3f76c76949c8",
   "metadata": {},
   "source": [
    "# Annotation Statistics"
   ]
  },
  {
   "cell_type": "markdown",
   "id": "9c36a00e-a5f9-4bd8-88a4-68abb92a9e05",
   "metadata": {},
   "source": [
    "## Reorder Annotations"
   ]
  },
  {
   "cell_type": "code",
   "execution_count": 1,
   "id": "b8a336da-908d-4dd8-b592-6ffd259eae70",
   "metadata": {},
   "outputs": [],
   "source": [
    "import json\n",
    "\n",
    "with open('annotations.json', 'r') as f:\n",
    "    examples = json.load(f)\n",
    "    \n",
    "sorted_examples = list(sorted(examples, key=lambda d: d[\"id\"]))\n",
    "\n",
    "with open('annotations.json', 'w') as f:\n",
    "    f.write(json.dumps(sorted_examples, indent=4))"
   ]
  },
  {
   "cell_type": "markdown",
   "id": "567cc84f-5842-4127-ae08-00e18b8f6faa",
   "metadata": {},
   "source": [
    "## Get Statistics"
   ]
  },
  {
   "cell_type": "code",
   "execution_count": 2,
   "id": "cb85673b-e6cf-409e-b7d9-764e27758bbe",
   "metadata": {},
   "outputs": [
    {
     "name": "stdout",
     "output_type": "stream",
     "text": [
      "Total number of images: 502\n",
      "Total number of pairs: 251\n",
      "\n",
      "Selected option counts:\n",
      "Both 14\n",
      "None 310\n",
      "Caption 1 91\n",
      "Caption 0 87\n",
      "\n",
      "Number of correct and incorrect images:\n",
      "Correct 103\n",
      "Incorrect 399\n",
      "\n",
      "Number of correct and incorrect pairs:\n",
      "Correct 21\n",
      "Incorrect 230\n"
     ]
    }
   ],
   "source": [
    "images = []\n",
    "choices = []\n",
    "correct = []\n",
    "correct_pairs = []\n",
    "for example in sorted_examples:\n",
    "    # get image names\n",
    "    image_0 = example[\"data\"][\"generated_image_0\"].split(\"/\")[-1]\n",
    "    image_1 = example[\"data\"][\"generated_image_1\"].split(\"/\")[-1]\n",
    "    images.extend([image_0, image_1])\n",
    "    \n",
    "    # get choices\n",
    "    result = example[\"annotations\"][0][\"result\"]\n",
    "    choice_0 = result[0][\"value\"][\"choices\"][0]\n",
    "    choice_1 = result[1][\"value\"][\"choices\"][0]\n",
    "    choices.extend([choice_0, choice_1])\n",
    "    \n",
    "    # check if choices are correct\n",
    "    caption_image_0 = int(image_0[-11])\n",
    "    caption_image_1 = int(image_1[-11])\n",
    "    correct_0_0 = choice_0 == 'Caption 0' and caption_image_0 == 0\n",
    "    correct_0_1 = choice_0 == 'Caption 1' and caption_image_0 == 1\n",
    "    correct_0 = correct_0_0 or correct_0_1\n",
    "    correct.append(correct_0)\n",
    "    correct_1_0 = choice_1 == 'Caption 0' and caption_image_1 == 0\n",
    "    correct_1_1 = choice_1 == 'Caption 1' and caption_image_1 == 1\n",
    "    correct_1 = correct_1_0 or correct_1_1\n",
    "    correct.append(correct_1)\n",
    "    correct_pairs.append(correct_0 and correct_1)\n",
    "\n",
    "print(\"Total number of images:\", len(images))\n",
    "print(\"Total number of pairs:\", len(correct_pairs))\n",
    "print()\n",
    "\n",
    "print(\"Selected option counts:\")\n",
    "options = set(choices)\n",
    "for option in options:\n",
    "    print(option, choices.count(option))\n",
    "    \n",
    "print()\n",
    "print(\"Number of correct and incorrect images:\")\n",
    "print(\"Correct\", correct.count(True))\n",
    "print(\"Incorrect\", correct.count(False))\n",
    "\n",
    "print()\n",
    "print(\"Number of correct and incorrect pairs:\")\n",
    "print(\"Correct\", correct_pairs.count(True))\n",
    "print(\"Incorrect\", correct_pairs.count(False))"
   ]
  }
 ],
 "metadata": {
  "kernelspec": {
   "display_name": "Python 3 (ipykernel)",
   "language": "python",
   "name": "python3"
  },
  "language_info": {
   "codemirror_mode": {
    "name": "ipython",
    "version": 3
   },
   "file_extension": ".py",
   "mimetype": "text/x-python",
   "name": "python",
   "nbconvert_exporter": "python",
   "pygments_lexer": "ipython3",
   "version": "3.8.6"
  }
 },
 "nbformat": 4,
 "nbformat_minor": 5
}
