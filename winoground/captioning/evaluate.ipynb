{
 "cells": [
  {
   "cell_type": "markdown",
   "id": "dce0f8c7-5c8c-4f05-9e7c-14d1dbf3c9ea",
   "metadata": {},
   "source": [
    "# Evaluate Generated Captions"
   ]
  },
  {
   "cell_type": "code",
   "execution_count": null,
   "id": "d93713d2-8cb8-4d03-aa5f-22c67a02573c",
   "metadata": {},
   "outputs": [],
   "source": [
    "!pip install evaluate"
   ]
  },
  {
   "cell_type": "code",
   "execution_count": 2,
   "id": "2db12444-1c89-4d79-9c9c-211795870694",
   "metadata": {},
   "outputs": [],
   "source": [
    "import json\n",
    "\n",
    "def load_captions(filename, model):\n",
    "    references = []\n",
    "    predictions = []\n",
    "    for i, line in enumerate(open(filename, \"r\").readlines()):\n",
    "        caption_dict = json.loads(line)\n",
    "        references.append([caption_dict[\"caption_0\"]])\n",
    "        references.append([caption_dict[\"caption_1\"]])\n",
    "        predictions.append(caption_dict[f\"{model}_caption_0\"])\n",
    "        predictions.append(caption_dict[f\"{model}_caption_1\"])\n",
    "    return references, predictions"
   ]
  },
  {
   "cell_type": "code",
   "execution_count": 4,
   "id": "548333d4-9430-495c-9c64-54583f072d73",
   "metadata": {},
   "outputs": [],
   "source": [
    "path = \"../results/captions/\"\n",
    "\n",
    "models = [\n",
    "    (path + \"ofa_tiny.jsonl\", \"OFA$_{Tiny}$\", 20, 20, \"single-stream\", \"merged\"),\n",
    "    (path + \"ofa_base.jsonl\", \"OFA$_{Base}$\", 20, 20, \"single-stream\", \"merged\"),\n",
    "    (path + \"ofa_medium.jsonl\", \"OFA$_{Medium}$\", 20, 20, \"single-stream\", \"merged\"),\n",
    "    (path + \"ofa_large.jsonl\", \"OFA$_{Large}$\", 20, 20, \"single-stream\", \"merged\"),\n",
    "    (path + \"ofa_huge.jsonl\", \"OFA$_{Huge}$\", 20, 20, \"single-stream\", \"merged\"),\n",
    "    (path + \"blip_b16.jsonl\", \"BLIP (ViT-B/16)\", 129, 130, \"dual-stream\", \"modality-specific, merged\"),\n",
    "    (path + \"blip_l16.jsonl\", \"BLIP (ViT-L/16)\", 129, 130, \"dual-stream\", \"modality-specific\"),\n",
    "]"
   ]
  },
  {
   "cell_type": "code",
   "execution_count": 5,
   "id": "4fdc2cdb-a8e5-40b0-b248-70d10c5b4e27",
   "metadata": {},
   "outputs": [],
   "source": [
    "from collections import defaultdict\n",
    "import evaluate\n",
    "\n",
    "bleu = evaluate.load(\"bleu\")\n",
    "scores = defaultdict(dict)\n",
    "\n",
    "for model in models:\n",
    "    name = \"blip\" if \"blip\" in model[0] else \"ofa\"\n",
    "    references, predictions = load_captions(model[0], name)\n",
    "    for i in range(1, 5):\n",
    "        results = bleu.compute(predictions=predictions, references=references, max_order=i)\n",
    "        scores[model[1]][f\"bleu-{i}\"] = round(results[\"bleu\"]*100, 2)"
   ]
  },
  {
   "cell_type": "code",
   "execution_count": 6,
   "id": "aa9f93de-9884-451e-abac-704559a40964",
   "metadata": {},
   "outputs": [
    {
     "data": {
      "text/html": [
       "<div>\n",
       "<style scoped>\n",
       "    .dataframe tbody tr th:only-of-type {\n",
       "        vertical-align: middle;\n",
       "    }\n",
       "\n",
       "    .dataframe tbody tr th {\n",
       "        vertical-align: top;\n",
       "    }\n",
       "\n",
       "    .dataframe thead th {\n",
       "        text-align: right;\n",
       "    }\n",
       "</style>\n",
       "<table border=\"1\" class=\"dataframe\">\n",
       "  <thead>\n",
       "    <tr style=\"text-align: right;\">\n",
       "      <th></th>\n",
       "      <th>bleu-1</th>\n",
       "      <th>bleu-2</th>\n",
       "      <th>bleu-3</th>\n",
       "      <th>bleu-4</th>\n",
       "    </tr>\n",
       "  </thead>\n",
       "  <tbody>\n",
       "    <tr>\n",
       "      <th>OFA$_{Tiny}$</th>\n",
       "      <td>14.40</td>\n",
       "      <td>5.76</td>\n",
       "      <td>2.50</td>\n",
       "      <td>1.30</td>\n",
       "    </tr>\n",
       "    <tr>\n",
       "      <th>OFA$_{Base}$</th>\n",
       "      <td>16.68</td>\n",
       "      <td>7.12</td>\n",
       "      <td>3.26</td>\n",
       "      <td>1.58</td>\n",
       "    </tr>\n",
       "    <tr>\n",
       "      <th>OFA$_{Medium}$</th>\n",
       "      <td>16.28</td>\n",
       "      <td>6.47</td>\n",
       "      <td>2.84</td>\n",
       "      <td>1.39</td>\n",
       "    </tr>\n",
       "    <tr>\n",
       "      <th>OFA$_{Large}$</th>\n",
       "      <td>15.10</td>\n",
       "      <td>6.45</td>\n",
       "      <td>3.03</td>\n",
       "      <td>1.53</td>\n",
       "    </tr>\n",
       "    <tr>\n",
       "      <th>OFA$_{Huge}$</th>\n",
       "      <td>15.73</td>\n",
       "      <td>6.94</td>\n",
       "      <td>3.06</td>\n",
       "      <td>1.35</td>\n",
       "    </tr>\n",
       "    <tr>\n",
       "      <th>BLIP (ViT-B/16)</th>\n",
       "      <td>17.80</td>\n",
       "      <td>8.10</td>\n",
       "      <td>3.96</td>\n",
       "      <td>2.01</td>\n",
       "    </tr>\n",
       "    <tr>\n",
       "      <th>BLIP (ViT-L/16)</th>\n",
       "      <td>17.96</td>\n",
       "      <td>8.31</td>\n",
       "      <td>4.36</td>\n",
       "      <td>2.50</td>\n",
       "    </tr>\n",
       "  </tbody>\n",
       "</table>\n",
       "</div>"
      ],
      "text/plain": [
       "                 bleu-1  bleu-2  bleu-3  bleu-4\n",
       "OFA$_{Tiny}$      14.40    5.76    2.50    1.30\n",
       "OFA$_{Base}$      16.68    7.12    3.26    1.58\n",
       "OFA$_{Medium}$    16.28    6.47    2.84    1.39\n",
       "OFA$_{Large}$     15.10    6.45    3.03    1.53\n",
       "OFA$_{Huge}$      15.73    6.94    3.06    1.35\n",
       "BLIP (ViT-B/16)   17.80    8.10    3.96    2.01\n",
       "BLIP (ViT-L/16)   17.96    8.31    4.36    2.50"
      ]
     },
     "execution_count": 6,
     "metadata": {},
     "output_type": "execute_result"
    }
   ],
   "source": [
    "import pandas as pd\n",
    "\n",
    "scores_df = pd.DataFrame(scores).transpose()\n",
    "scores_df"
   ]
  },
  {
   "cell_type": "code",
   "execution_count": 7,
   "id": "369b5f2c-9131-4331-96c6-9b3549632a0a",
   "metadata": {},
   "outputs": [
    {
     "data": {
      "text/plain": [
       "'\\\\begin{tabular}{lrrrr}\\n\\\\toprule\\n{} &  bleu-1 &  bleu-2 &  bleu-3 &  bleu-4 \\\\\\\\\\n\\\\midrule\\nOFA\\\\$\\\\_\\\\{Tiny\\\\}\\\\$    &   14.40 &    5.76 &    2.50 &    1.30 \\\\\\\\\\nOFA\\\\$\\\\_\\\\{Base\\\\}\\\\$    &   16.68 &    7.12 &    3.26 &    1.58 \\\\\\\\\\nOFA\\\\$\\\\_\\\\{Medium\\\\}\\\\$  &   16.28 &    6.47 &    2.84 &    1.39 \\\\\\\\\\nOFA\\\\$\\\\_\\\\{Large\\\\}\\\\$   &   15.10 &    6.45 &    3.03 &    1.53 \\\\\\\\\\nOFA\\\\$\\\\_\\\\{Huge\\\\}\\\\$    &   15.73 &    6.94 &    3.06 &    1.35 \\\\\\\\\\nBLIP (ViT-B/16) &   17.80 &    8.10 &    3.96 &    2.01 \\\\\\\\\\nBLIP (ViT-L/16) &   17.96 &    8.31 &    4.36 &    2.50 \\\\\\\\\\n\\\\bottomrule\\n\\\\end{tabular}\\n'"
      ]
     },
     "execution_count": 7,
     "metadata": {},
     "output_type": "execute_result"
    }
   ],
   "source": [
    "scores_df.to_latex()"
   ]
  }
 ],
 "metadata": {
  "kernelspec": {
   "display_name": "Python 3 (ipykernel)",
   "language": "python",
   "name": "python3"
  },
  "language_info": {
   "codemirror_mode": {
    "name": "ipython",
    "version": 3
   },
   "file_extension": ".py",
   "mimetype": "text/x-python",
   "name": "python",
   "nbconvert_exporter": "python",
   "pygments_lexer": "ipython3",
   "version": "3.8.6"
  }
 },
 "nbformat": 4,
 "nbformat_minor": 5
}
