{
 "cells": [
  {
   "cell_type": "markdown",
   "metadata": {
    "id": "DJQCn1E9AB9H"
   },
   "source": [
    "## Winoground BLIP"
   ]
  },
  {
   "cell_type": "code",
   "execution_count": 3,
   "metadata": {
    "colab": {
     "base_uri": "https://localhost:8080/"
    },
    "executionInfo": {
     "elapsed": 2299,
     "status": "ok",
     "timestamp": 1659031161093,
     "user": {
      "displayName": "Julen Etxaniz Aragoneses",
      "userId": "06956422670240182492"
     },
     "user_tz": -120
    },
    "id": "44KnHVfW_oQ5",
    "outputId": "2755b897-289a-46ee-d402-67452ae7e8b4"
   },
   "outputs": [
    {
     "name": "stdout",
     "output_type": "stream",
     "text": [
      "Drive already mounted at /content/drive; to attempt to forcibly remount, call drive.mount(\"/content/drive\", force_remount=True).\n"
     ]
    }
   ],
   "source": [
    "from google.colab import drive\n",
    "drive.mount('/content/drive')"
   ]
  },
  {
   "cell_type": "markdown",
   "metadata": {
    "id": "QcvGP5f7_3nY"
   },
   "source": [
    "# Install Dependencies"
   ]
  },
  {
   "cell_type": "code",
   "execution_count": 1,
   "metadata": {
    "colab": {
     "base_uri": "https://localhost:8080/"
    },
    "executionInfo": {
     "elapsed": 11281,
     "status": "ok",
     "timestamp": 1659031174544,
     "user": {
      "displayName": "Julen Etxaniz Aragoneses",
      "userId": "06956422670240182492"
     },
     "user_tz": -120
    },
    "id": "otGGvoHh29Mg",
    "outputId": "5599ea6c-4fac-4a61-945b-94c9b1dae812"
   },
   "outputs": [
    {
     "name": "stdout",
     "output_type": "stream",
     "text": [
      "Collecting transformers==4.15.0\n",
      "  Downloading transformers-4.15.0-py3-none-any.whl (3.4 MB)\n",
      "     |████████████████████████████████| 3.4 MB 1.3 MB/s            \n",
      "\u001b[?25hCollecting timm==0.4.12\n",
      "  Downloading timm-0.4.12-py3-none-any.whl (376 kB)\n",
      "     |████████████████████████████████| 376 kB 23.9 MB/s            \n",
      "\u001b[?25hCollecting fairscale==0.4.4\n",
      "  Downloading fairscale-0.4.4.tar.gz (235 kB)\n",
      "     |████████████████████████████████| 235 kB 34.7 MB/s            \n",
      "\u001b[?25h  Installing build dependencies ... \u001b[?25ldone\n",
      "\u001b[?25h  Getting requirements to build wheel ... \u001b[?25ldone\n",
      "\u001b[?25h  Installing backend dependencies ... \u001b[?25ldone\n",
      "\u001b[?25h  Preparing metadata (pyproject.toml) ... \u001b[?25ldone\n",
      "\u001b[?25hCollecting tokenizers<0.11,>=0.10.1\n",
      "  Downloading tokenizers-0.10.3-cp36-cp36m-manylinux_2_5_x86_64.manylinux1_x86_64.manylinux_2_12_x86_64.manylinux2010_x86_64.whl (3.3 MB)\n",
      "     |████████████████████████████████| 3.3 MB 50.6 MB/s            \n",
      "\u001b[?25hRequirement already satisfied: packaging>=20.0 in /gaueko0/users/jetxaniz007/spatial-reasoning/venv/lib/python3.6/site-packages (from transformers==4.15.0) (21.3)\n",
      "Collecting pyyaml>=5.1\n",
      "  Downloading PyYAML-6.0-cp36-cp36m-manylinux_2_5_x86_64.manylinux1_x86_64.manylinux_2_12_x86_64.manylinux2010_x86_64.whl (603 kB)\n",
      "     |████████████████████████████████| 603 kB 29.3 MB/s            \n",
      "\u001b[?25hRequirement already satisfied: numpy>=1.17 in /gaueko0/users/jetxaniz007/spatial-reasoning/venv/lib/python3.6/site-packages (from transformers==4.15.0) (1.19.5)\n",
      "Collecting sacremoses\n",
      "  Downloading sacremoses-0.0.53.tar.gz (880 kB)\n",
      "     |████████████████████████████████| 880 kB 31.5 MB/s            \n",
      "\u001b[?25h  Preparing metadata (setup.py) ... \u001b[?25ldone\n",
      "\u001b[?25hCollecting tqdm>=4.27\n",
      "  Downloading tqdm-4.64.0-py2.py3-none-any.whl (78 kB)\n",
      "     |████████████████████████████████| 78 kB 7.0 MB/s             \n",
      "\u001b[?25hRequirement already satisfied: importlib-metadata in /gaueko0/users/jetxaniz007/spatial-reasoning/venv/lib/python3.6/site-packages (from transformers==4.15.0) (4.8.3)\n",
      "Collecting huggingface-hub<1.0,>=0.1.0\n",
      "  Downloading huggingface_hub-0.4.0-py3-none-any.whl (67 kB)\n",
      "     |████████████████████████████████| 67 kB 5.3 MB/s             \n",
      "\u001b[?25hCollecting regex!=2019.12.17\n",
      "  Downloading regex-2022.7.25-cp36-cp36m-manylinux_2_17_x86_64.manylinux2014_x86_64.whl (751 kB)\n",
      "     |████████████████████████████████| 751 kB 30.8 MB/s            \n",
      "\u001b[?25hRequirement already satisfied: requests in /gaueko0/users/jetxaniz007/spatial-reasoning/venv/lib/python3.6/site-packages (from transformers==4.15.0) (2.27.1)\n",
      "Requirement already satisfied: dataclasses in /gaueko0/users/jetxaniz007/spatial-reasoning/venv/lib/python3.6/site-packages (from transformers==4.15.0) (0.8)\n",
      "Collecting filelock\n",
      "  Downloading filelock-3.4.1-py3-none-any.whl (9.9 kB)\n",
      "Collecting torch>=1.4\n",
      "  Downloading torch-1.10.2-cp36-cp36m-manylinux1_x86_64.whl (881.9 MB)\n",
      "     |████████████████████████████████| 881.9 MB 5.9 kB/s             \n",
      "\u001b[?25hCollecting torchvision\n",
      "  Downloading torchvision-0.11.2-cp36-cp36m-manylinux1_x86_64.whl (23.3 MB)\n",
      "     |████████████████████████████████| 23.3 MB 183 kB/s            \n",
      "\u001b[?25hRequirement already satisfied: typing-extensions>=3.7.4.3 in /gaueko0/users/jetxaniz007/spatial-reasoning/venv/lib/python3.6/site-packages (from huggingface-hub<1.0,>=0.1.0->transformers==4.15.0) (4.1.1)\n",
      "Requirement already satisfied: pyparsing!=3.0.5,>=2.0.2 in /gaueko0/users/jetxaniz007/spatial-reasoning/venv/lib/python3.6/site-packages (from packaging>=20.0->transformers==4.15.0) (3.0.7)\n",
      "Collecting importlib-resources\n",
      "  Downloading importlib_resources-5.4.0-py3-none-any.whl (28 kB)\n",
      "Requirement already satisfied: zipp>=0.5 in /gaueko0/users/jetxaniz007/spatial-reasoning/venv/lib/python3.6/site-packages (from importlib-metadata->transformers==4.15.0) (3.6.0)\n",
      "Requirement already satisfied: idna<4,>=2.5 in /gaueko0/users/jetxaniz007/spatial-reasoning/venv/lib/python3.6/site-packages (from requests->transformers==4.15.0) (3.3)\n",
      "Requirement already satisfied: certifi>=2017.4.17 in /gaueko0/users/jetxaniz007/spatial-reasoning/venv/lib/python3.6/site-packages (from requests->transformers==4.15.0) (2022.6.15)\n",
      "Requirement already satisfied: charset-normalizer~=2.0.0 in /gaueko0/users/jetxaniz007/spatial-reasoning/venv/lib/python3.6/site-packages (from requests->transformers==4.15.0) (2.0.12)\n",
      "Requirement already satisfied: urllib3<1.27,>=1.21.1 in /gaueko0/users/jetxaniz007/spatial-reasoning/venv/lib/python3.6/site-packages (from requests->transformers==4.15.0) (1.26.11)\n",
      "Requirement already satisfied: six in /gaueko0/users/jetxaniz007/spatial-reasoning/venv/lib/python3.6/site-packages (from sacremoses->transformers==4.15.0) (1.16.0)\n",
      "Collecting click\n",
      "  Downloading click-8.0.4-py3-none-any.whl (97 kB)\n",
      "     |████████████████████████████████| 97 kB 6.8 MB/s             \n",
      "\u001b[?25hCollecting joblib\n",
      "  Downloading joblib-1.1.0-py2.py3-none-any.whl (306 kB)\n",
      "     |████████████████████████████████| 306 kB 34.6 MB/s            \n",
      "\u001b[?25hCollecting pillow!=8.3.0,>=5.3.0\n",
      "  Downloading Pillow-8.4.0-cp36-cp36m-manylinux_2_17_x86_64.manylinux2014_x86_64.whl (3.1 MB)\n",
      "     |████████████████████████████████| 3.1 MB 31.0 MB/s            \n",
      "\u001b[?25hCollecting torch>=1.4\n",
      "  Downloading torch-1.10.1-cp36-cp36m-manylinux1_x86_64.whl (881.9 MB)\n",
      "     |████████████████████████████████| 881.9 MB 6.1 kB/s             \n",
      "\u001b[?25hBuilding wheels for collected packages: fairscale, sacremoses\n",
      "  Building wheel for fairscale (pyproject.toml) ... \u001b[?25ldone\n",
      "\u001b[?25h  Created wheel for fairscale: filename=fairscale-0.4.4-py3-none-any.whl size=292864 sha256=ba28e5ee457e59d09483b0bc4e64c27f2e8a0df77280281ea3e05c11d00ff417\n",
      "  Stored in directory: /gaueko0/users/jetxaniz007/.cache/pip/wheels/79/83/53/18f00fe0fb056a0c4fe956964d4316069bf2e39f8b20f342a6\n",
      "  Building wheel for sacremoses (setup.py) ... \u001b[?25ldone\n",
      "\u001b[?25h  Created wheel for sacremoses: filename=sacremoses-0.0.53-py3-none-any.whl size=895260 sha256=3d49d355626caad3af7b4ccf65c6ea1dfbd6b68be896745baeab4bd32804f677\n",
      "  Stored in directory: /gaueko0/users/jetxaniz007/.cache/pip/wheels/4c/64/31/e9900a234b23fb3e9dc565d6114a9d6ff84a72dbdd356502b4\n",
      "Successfully built fairscale sacremoses\n",
      "Installing collected packages: importlib-resources, tqdm, torch, regex, pyyaml, pillow, joblib, filelock, click, torchvision, tokenizers, sacremoses, huggingface-hub, transformers, timm, fairscale\n",
      "Successfully installed click-8.0.4 fairscale-0.4.4 filelock-3.4.1 huggingface-hub-0.4.0 importlib-resources-5.4.0 joblib-1.1.0 pillow-8.4.0 pyyaml-6.0 regex-2022.7.25 sacremoses-0.0.53 timm-0.4.12 tokenizers-0.10.3 torch-1.10.1 torchvision-0.11.2 tqdm-4.64.0 transformers-4.15.0\n",
      "Collecting datasets\n",
      "  Downloading datasets-2.4.0-py3-none-any.whl (365 kB)\n",
      "     |████████████████████████████████| 365 kB 1.3 MB/s            \n",
      "\u001b[?25hCollecting dill<0.3.6\n",
      "  Downloading dill-0.3.4-py2.py3-none-any.whl (86 kB)\n",
      "     |████████████████████████████████| 86 kB 5.3 MB/s             \n",
      "\u001b[?25hRequirement already satisfied: requests>=2.19.0 in /gaueko0/users/jetxaniz007/spatial-reasoning/venv/lib/python3.6/site-packages (from datasets) (2.27.1)\n",
      "Requirement already satisfied: packaging in /gaueko0/users/jetxaniz007/spatial-reasoning/venv/lib/python3.6/site-packages (from datasets) (21.3)\n",
      "Collecting fsspec[http]>=2021.11.1\n",
      "  Downloading fsspec-2022.1.0-py3-none-any.whl (133 kB)\n",
      "     |████████████████████████████████| 133 kB 24.8 MB/s            \n",
      "\u001b[?25hCollecting pyarrow>=6.0.0\n",
      "  Downloading pyarrow-6.0.1-cp36-cp36m-manylinux_2_17_x86_64.manylinux2014_x86_64.whl (25.6 MB)\n",
      "     |████████████████████████████████| 25.6 MB 9.1 MB/s            \n",
      "\u001b[?25hRequirement already satisfied: numpy>=1.17 in /gaueko0/users/jetxaniz007/spatial-reasoning/venv/lib/python3.6/site-packages (from datasets) (1.19.5)\n",
      "Requirement already satisfied: huggingface-hub<1.0.0,>=0.1.0 in /gaueko0/users/jetxaniz007/spatial-reasoning/venv/lib/python3.6/site-packages (from datasets) (0.4.0)\n",
      "Requirement already satisfied: dataclasses in /gaueko0/users/jetxaniz007/spatial-reasoning/venv/lib/python3.6/site-packages (from datasets) (0.8)\n",
      "Collecting aiohttp\n",
      "  Downloading aiohttp-3.8.1-cp36-cp36m-manylinux_2_5_x86_64.manylinux1_x86_64.manylinux_2_12_x86_64.manylinux2010_x86_64.whl (1.1 MB)\n",
      "     |████████████████████████████████| 1.1 MB 27.5 MB/s            \n",
      "\u001b[?25hCollecting xxhash\n",
      "  Downloading xxhash-3.0.0-cp36-cp36m-manylinux_2_17_x86_64.manylinux2014_x86_64.whl (211 kB)\n",
      "     |████████████████████████████████| 211 kB 32.2 MB/s            \n",
      "\u001b[?25hCollecting responses<0.19\n",
      "  Downloading responses-0.17.0-py2.py3-none-any.whl (38 kB)\n",
      "Requirement already satisfied: pandas in /gaueko0/users/jetxaniz007/spatial-reasoning/venv/lib/python3.6/site-packages (from datasets) (1.1.5)\n",
      "Collecting multiprocess\n",
      "  Downloading multiprocess-0.70.12.2-py36-none-any.whl (106 kB)\n",
      "     |████████████████████████████████| 106 kB 36.9 MB/s            \n",
      "\u001b[?25hRequirement already satisfied: importlib-metadata in /gaueko0/users/jetxaniz007/spatial-reasoning/venv/lib/python3.6/site-packages (from datasets) (4.8.3)\n",
      "Requirement already satisfied: tqdm>=4.62.1 in /gaueko0/users/jetxaniz007/spatial-reasoning/venv/lib/python3.6/site-packages (from datasets) (4.64.0)\n",
      "Requirement already satisfied: typing-extensions>=3.7.4.3 in /gaueko0/users/jetxaniz007/spatial-reasoning/venv/lib/python3.6/site-packages (from huggingface-hub<1.0.0,>=0.1.0->datasets) (4.1.1)\n",
      "Requirement already satisfied: pyyaml in /gaueko0/users/jetxaniz007/spatial-reasoning/venv/lib/python3.6/site-packages (from huggingface-hub<1.0.0,>=0.1.0->datasets) (6.0)\n",
      "Requirement already satisfied: filelock in /gaueko0/users/jetxaniz007/spatial-reasoning/venv/lib/python3.6/site-packages (from huggingface-hub<1.0.0,>=0.1.0->datasets) (3.4.1)\n",
      "Requirement already satisfied: pyparsing!=3.0.5,>=2.0.2 in /gaueko0/users/jetxaniz007/spatial-reasoning/venv/lib/python3.6/site-packages (from packaging->datasets) (3.0.7)\n",
      "Requirement already satisfied: certifi>=2017.4.17 in /gaueko0/users/jetxaniz007/spatial-reasoning/venv/lib/python3.6/site-packages (from requests>=2.19.0->datasets) (2022.6.15)\n",
      "Requirement already satisfied: idna<4,>=2.5 in /gaueko0/users/jetxaniz007/spatial-reasoning/venv/lib/python3.6/site-packages (from requests>=2.19.0->datasets) (3.3)\n",
      "Requirement already satisfied: charset-normalizer~=2.0.0 in /gaueko0/users/jetxaniz007/spatial-reasoning/venv/lib/python3.6/site-packages (from requests>=2.19.0->datasets) (2.0.12)\n",
      "Requirement already satisfied: urllib3<1.27,>=1.21.1 in /gaueko0/users/jetxaniz007/spatial-reasoning/venv/lib/python3.6/site-packages (from requests>=2.19.0->datasets) (1.26.11)\n",
      "Requirement already satisfied: six in /gaueko0/users/jetxaniz007/spatial-reasoning/venv/lib/python3.6/site-packages (from responses<0.19->datasets) (1.16.0)\n",
      "Requirement already satisfied: importlib-resources in /gaueko0/users/jetxaniz007/spatial-reasoning/venv/lib/python3.6/site-packages (from tqdm>=4.62.1->datasets) (5.4.0)\n",
      "Collecting yarl<2.0,>=1.0\n",
      "  Downloading yarl-1.7.2-cp36-cp36m-manylinux_2_5_x86_64.manylinux1_x86_64.manylinux_2_12_x86_64.manylinux2010_x86_64.whl (270 kB)\n",
      "     |████████████████████████████████| 270 kB 35.4 MB/s            \n",
      "\u001b[?25hCollecting aiosignal>=1.1.2\n",
      "  Downloading aiosignal-1.2.0-py3-none-any.whl (8.2 kB)\n",
      "Collecting asynctest==0.13.0\n",
      "  Downloading asynctest-0.13.0-py3-none-any.whl (26 kB)\n",
      "Collecting async-timeout<5.0,>=4.0.0a3\n",
      "  Downloading async_timeout-4.0.2-py3-none-any.whl (5.8 kB)\n",
      "Collecting frozenlist>=1.1.1\n",
      "  Downloading frozenlist-1.2.0-cp36-cp36m-manylinux_2_5_x86_64.manylinux1_x86_64.manylinux_2_12_x86_64.manylinux2010_x86_64.whl (191 kB)\n",
      "     |████████████████████████████████| 191 kB 37.7 MB/s            \n",
      "\u001b[?25hRequirement already satisfied: attrs>=17.3.0 in /gaueko0/users/jetxaniz007/spatial-reasoning/venv/lib/python3.6/site-packages (from aiohttp->datasets) (22.1.0)\n",
      "Collecting idna-ssl>=1.0\n",
      "  Downloading idna-ssl-1.1.0.tar.gz (3.4 kB)\n",
      "  Preparing metadata (setup.py) ... \u001b[?25ldone\n",
      "\u001b[?25hCollecting multidict<7.0,>=4.5\n",
      "  Downloading multidict-5.2.0-cp36-cp36m-manylinux_2_5_x86_64.manylinux1_x86_64.manylinux_2_12_x86_64.manylinux2010_x86_64.whl (159 kB)\n",
      "     |████████████████████████████████| 159 kB 36.3 MB/s            \n",
      "\u001b[?25hRequirement already satisfied: zipp>=0.5 in /gaueko0/users/jetxaniz007/spatial-reasoning/venv/lib/python3.6/site-packages (from importlib-metadata->datasets) (3.6.0)\n",
      "Requirement already satisfied: python-dateutil>=2.7.3 in /gaueko0/users/jetxaniz007/spatial-reasoning/venv/lib/python3.6/site-packages (from pandas->datasets) (2.8.2)\n",
      "Requirement already satisfied: pytz>=2017.2 in /gaueko0/users/jetxaniz007/spatial-reasoning/venv/lib/python3.6/site-packages (from pandas->datasets) (2022.1)\n",
      "Building wheels for collected packages: idna-ssl\n",
      "  Building wheel for idna-ssl (setup.py) ... \u001b[?25ldone\n",
      "\u001b[?25h  Created wheel for idna-ssl: filename=idna_ssl-1.1.0-py3-none-any.whl size=3178 sha256=9aa422ed4ba59dcfbf7b87076c4219cae0cbde8a53c9b0299719903c2be54c2f\n",
      "  Stored in directory: /gaueko0/users/jetxaniz007/.cache/pip/wheels/6a/f5/9c/f8331a854f7a8739cf0e74c13854e4dd7b1af11b04fe1dde13\n",
      "Successfully built idna-ssl\n",
      "Installing collected packages: multidict, frozenlist, yarl, idna-ssl, asynctest, async-timeout, aiosignal, fsspec, dill, aiohttp, xxhash, responses, pyarrow, multiprocess, datasets\n",
      "Successfully installed aiohttp-3.8.1 aiosignal-1.2.0 async-timeout-4.0.2 asynctest-0.13.0 datasets-2.4.0 dill-0.3.4 frozenlist-1.2.0 fsspec-2022.1.0 idna-ssl-1.1.0 multidict-5.2.0 multiprocess-0.70.12.2 pyarrow-6.0.1 responses-0.17.0 xxhash-3.0.0 yarl-1.7.2\n",
      "Cloning into 'BLIP'...\n",
      "remote: Enumerating objects: 268, done.\u001b[K\n",
      "remote: Counting objects: 100% (268/268), done.\u001b[K\n",
      "remote: Compressing objects: 100% (128/128), done.\u001b[K\n",
      "remote: Total 268 (delta 143), reused 245 (delta 137), pack-reused 0\u001b[K\n",
      "Receiving objects: 100% (268/268), 7.66 MiB | 1.86 MiB/s, done.\n",
      "Resolving deltas: 100% (143/143), done.\n",
      "/gaueko0/users/jetxaniz007/spatial-reasoning/winoground/evaluation/BLIP\n"
     ]
    }
   ],
   "source": [
    "!pip3 install transformers==4.15.0 timm==0.4.12 fairscale==0.4.6\n",
    "!pip install datasets\n",
    "!git clone https://github.com/salesforce/BLIP\n",
    "%cd BLIP"
   ]
  },
  {
   "cell_type": "markdown",
   "metadata": {
    "id": "26CSt5Jk__ei"
   },
   "source": [
    "# Load Winoground (enter a huggingface user token or it will fail)\n",
    "\n",
    "Easily get a token by logging into https://huggingface.co/, clicking on your user profile -> settings -> access tokens -> new token"
   ]
  },
  {
   "cell_type": "code",
   "execution_count": 2,
   "metadata": {
    "executionInfo": {
     "elapsed": 477,
     "status": "ok",
     "timestamp": 1659031195242,
     "user": {
      "displayName": "Julen Etxaniz Aragoneses",
      "userId": "06956422670240182492"
     },
     "user_tz": -120
    },
    "id": "zL1273D-APJz"
   },
   "outputs": [],
   "source": [
    "def get_token(path):\n",
    "    with open(path + \"../token.txt\") as f:\n",
    "        return f.read()"
   ]
  },
  {
   "cell_type": "code",
   "execution_count": 3,
   "metadata": {
    "colab": {
     "base_uri": "https://localhost:8080/",
     "height": 86,
     "referenced_widgets": [
      "3aabf8ee103049458a37da200e881ae2",
      "489462c6fff9422c82dbf64a2e1fa1ae",
      "d9b6c8a07c394fbcb68b22c370980000",
      "70a137e48c394d66b9c6af5e9a7fbdac",
      "e1a6986bca91488c8ef919feee8d23ec",
      "66dd6562d1a84e27b20cdff0045e2242",
      "abddffc9da084850a0d81d563e629090",
      "939d8a36c2474d599a556828a195d731",
      "b31b506521804d889d9c940d2f8f7d17",
      "4f4e1728fae942e4bdd67fa65e70f6da",
      "058d9657fb944818a93dcf0bd3fb1093"
     ]
    },
    "executionInfo": {
     "elapsed": 5545,
     "status": "ok",
     "timestamp": 1659031202848,
     "user": {
      "displayName": "Julen Etxaniz Aragoneses",
      "userId": "06956422670240182492"
     },
     "user_tz": -120
    },
    "id": "dyH4My1BAD0h",
    "outputId": "744953ee-3081-48a4-ad4c-91beea2f97d6"
   },
   "outputs": [
    {
     "name": "stderr",
     "output_type": "stream",
     "text": [
      "Reusing dataset winoground (/gaueko0/users/jetxaniz007/.cache/huggingface/datasets/facebook___winoground/default/0.0.0/ce486f3e39fab90997d6f3c58c4b0103eb9c37011049ef775a465f0ab2e78d7d)\n"
     ]
    },
    {
     "data": {
      "application/vnd.jupyter.widget-view+json": {
       "model_id": "ec05afe454d443cb8ee11048480cbc00",
       "version_major": 2,
       "version_minor": 0
      },
      "text/plain": [
       "  0%|          | 0/1 [00:00<?, ?it/s]"
      ]
     },
     "metadata": {},
     "output_type": "display_data"
    }
   ],
   "source": [
    "from datasets import load_dataset\n",
    "# Replace with an auth token, which you can get from your huggingface account: Profile -> Settings -> Access Tokens -> New Token\n",
    "# path = \"/content/drive/MyDrive/PhD/2022 Julen Etxaniz EHU/MAL/winoground/evaluation/\"\n",
    "path = \"../\"\n",
    "auth_token = get_token(path)\n",
    "winoground = load_dataset(\"facebook/winoground\", use_auth_token=auth_token)[\"test\"]"
   ]
  },
  {
   "cell_type": "markdown",
   "metadata": {
    "id": "xMBH7v1XBy1o"
   },
   "source": [
    "# Load BLIP"
   ]
  },
  {
   "cell_type": "code",
   "execution_count": 5,
   "metadata": {
    "executionInfo": {
     "elapsed": 4231,
     "status": "ok",
     "timestamp": 1659031211829,
     "user": {
      "displayName": "Julen Etxaniz Aragoneses",
      "userId": "06956422670240182492"
     },
     "user_tz": -120
    },
    "id": "xWmvJYTB4P-e"
   },
   "outputs": [],
   "source": [
    "from PIL import Image\n",
    "import requests\n",
    "import torch\n",
    "from torchvision import transforms\n",
    "from torchvision.transforms.functional import InterpolationMode\n",
    "from models.blip_nlvr import blip_nlvr\n",
    "from tqdm import tqdm\n",
    "import pandas as pd\n",
    "\n",
    "\n",
    "def load_image(image, image_size, device):\n",
    "    transform = transforms.Compose([\n",
    "        transforms.Resize((image_size, image_size), interpolation=InterpolationMode.BICUBIC),\n",
    "        transforms.ToTensor(),\n",
    "        transforms.Normalize((0.48145466, 0.4578275, 0.40821073), (0.26862954, 0.26130258, 0.27577711))\n",
    "        ]) \n",
    "    image = transform(image).unsqueeze(0).to(device)\n",
    "    return image\n",
    "\n",
    "\n",
    "def load_model(model_url, image_size, device, vit='base'):\n",
    "    model = blip_nlvr(pretrained=model_url, image_size=image_size, vit=vit)\n",
    "    model.eval()\n",
    "    model = model.to(device)\n",
    "    return model"
   ]
  },
  {
   "cell_type": "code",
   "execution_count": 6,
   "metadata": {
    "colab": {
     "base_uri": "https://localhost:8080/"
    },
    "executionInfo": {
     "elapsed": 17622,
     "status": "ok",
     "timestamp": 1659031232208,
     "user": {
      "displayName": "Julen Etxaniz Aragoneses",
      "userId": "06956422670240182492"
     },
     "user_tz": -120
    },
    "id": "gqjZCpXo4B-1",
    "outputId": "60d78d1d-3882-4edf-8cb2-818b2bb89373"
   },
   "outputs": [
    {
     "name": "stdout",
     "output_type": "stream",
     "text": [
      "load checkpoint from https://storage.googleapis.com/sfr-vision-language-research/BLIP/models/model_base_nlvr.pth\n",
      "missing keys:\n",
      "[]\n"
     ]
    }
   ],
   "source": [
    "device = torch.device('cuda' if torch.cuda.is_available() else 'cpu')\n",
    "image_size = 384\n",
    "model_url = 'https://storage.googleapis.com/sfr-vision-language-research/BLIP/models/model_base_nlvr.pth'\n",
    "blip_model = load_model(model_url, image_size, device, vit='base')"
   ]
  },
  {
   "cell_type": "markdown",
   "metadata": {
    "id": "JM7MAnFUCM2E"
   },
   "source": [
    "# Look at an example from Winoground and get the image-caption scores from BLIP"
   ]
  },
  {
   "cell_type": "code",
   "execution_count": 7,
   "metadata": {
    "colab": {
     "base_uri": "https://localhost:8080/",
     "height": 247
    },
    "executionInfo": {
     "elapsed": 3474,
     "status": "ok",
     "timestamp": 1659031237796,
     "user": {
      "displayName": "Julen Etxaniz Aragoneses",
      "userId": "06956422670240182492"
     },
     "user_tz": -120
    },
    "id": "wPNwacU3bxup",
    "outputId": "330fab36-0ef8-4a33-ed38-97380db59d72"
   },
   "outputs": [
    {
     "data": {
      "image/png": "[encoded data removed]",
      "text/plain": [
       "<Figure size 432x288 with 2 Axes>"
      ]
     },
     "metadata": {
      "needs_background": "light"
     },
     "output_type": "display_data"
    },
    {
     "name": "stdout",
     "output_type": "stream",
     "text": [
      "caption_0: some plants surrounding a lightbulb\n",
      "caption_1: a lightbulb surrounding some plants\n"
     ]
    }
   ],
   "source": [
    "from matplotlib import pyplot as plt\n",
    "\n",
    "def show_example(id):\n",
    "    ax1 = plt.subplot(1, 3, 1)\n",
    "    ax1.title.set_text('image_0')\n",
    "    plt.imshow(winoground[id][\"image_0\"].convert(\"RGB\"))\n",
    "\n",
    "    ax2 = plt.subplot(1, 3, 2)\n",
    "    ax2.title.set_text('image_1')\n",
    "    plt.imshow(winoground[id][\"image_1\"].convert(\"RGB\"))\n",
    "\n",
    "    plt.show()\n",
    "\n",
    "    print(\"caption_0:\", winoground[id][\"caption_0\"])\n",
    "    print(\"caption_1:\", winoground[id][\"caption_1\"])\n",
    "\n",
    "show_example(id=155)"
   ]
  },
  {
   "cell_type": "code",
   "execution_count": 8,
   "metadata": {
    "executionInfo": {
     "elapsed": 24317,
     "status": "ok",
     "timestamp": 1659031271678,
     "user": {
      "displayName": "Julen Etxaniz Aragoneses",
      "userId": "06956422670240182492"
     },
     "user_tz": -120
    },
    "id": "YaMPahULb9fd"
   },
   "outputs": [],
   "source": [
    "def get_blip_scores(id):\n",
    "    # Note that some images in winoground are RGBA and some are RGB. Need to convert all to RGB with .convert('RGB')\n",
    "    text_0 = f'Left image {winoground[id][\"caption_0\"]}'\n",
    "    text_1 = f'Left image {winoground[id][\"caption_1\"]}'\n",
    "    image_0 = load_image(winoground[id][\"image_0\"].convert(\"RGB\"), image_size, device)\n",
    "    image_1 = load_image(winoground[id][\"image_1\"].convert(\"RGB\"), image_size, device)\n",
    "    images_0_1 = torch.cat([image_0, image_1], dim=0)\n",
    "    images_1_0 = torch.cat([image_1, image_0], dim=0)\n",
    "\n",
    "    one_tensor = torch.tensor([1]).to(device)\n",
    "    zero_tensor = torch.tensor([0]).to(device)\n",
    "    \n",
    "    output_c0_i0 = blip_model(text=text_0, image=images_0_1, targets=one_tensor, train=False)\n",
    "    output_c1_i0 = blip_model(text=text_1, image=images_0_1, targets=zero_tensor, train=False)\n",
    "    output_c0_i1 = blip_model(text=text_0, image=images_1_0, targets=zero_tensor, train=False)\n",
    "    output_c1_i1 = blip_model(text=text_1, image=images_1_0, targets=one_tensor, train=False)\n",
    "\n",
    "    blip_scores_c0_i0 = output_c0_i0[0][1].item()\n",
    "    blip_scores_c1_i0 = output_c1_i0[0][1].item()\n",
    "    blip_scores_c0_i1 = output_c0_i1[0][1].item()\n",
    "    blip_scores_c1_i1 = output_c1_i1[0][1].item()\n",
    "\n",
    "    blip_scores = {\"id\": id, \"c0_i0\": blip_scores_c0_i0, \"c0_i1\": blip_scores_c0_i1, \n",
    "                         \"c1_i0\": blip_scores_c1_i0, \"c1_i1\": blip_scores_c1_i1}\n",
    "\n",
    "    return blip_scores\n",
    "\n",
    "blip_scores = get_blip_scores(id=155)"
   ]
  },
  {
   "cell_type": "code",
   "execution_count": 9,
   "metadata": {
    "colab": {
     "base_uri": "https://localhost:8080/"
    },
    "executionInfo": {
     "elapsed": 428,
     "status": "ok",
     "timestamp": 1659031274650,
     "user": {
      "displayName": "Julen Etxaniz Aragoneses",
      "userId": "06956422670240182492"
     },
     "user_tz": -120
    },
    "id": "xtkrSjfhCdv-",
    "outputId": "d2f49086-ce9f-427f-9fe8-910ef88e4b03"
   },
   "outputs": [
    {
     "name": "stdout",
     "output_type": "stream",
     "text": [
      "BLIP scores:\n",
      "image_0, caption_0: 3.2934796810150146\n",
      "image_0, caption_1: 3.3072643280029297\n",
      "image_1, caption_0: 0.12324383854866028\n",
      "image_1, caption_1: 3.2351012229919434\n"
     ]
    }
   ],
   "source": [
    "def print_scores(scores):\n",
    "    print(\"image_0, caption_0:\", scores[\"c0_i0\"])\n",
    "    print(\"image_0, caption_1:\", scores[\"c1_i0\"])\n",
    "    print(\"image_1, caption_0:\", scores[\"c0_i1\"])\n",
    "    print(\"image_1, caption_1:\", scores[\"c1_i1\"])\n",
    "\n",
    "print(\"BLIP scores:\")\n",
    "print_scores(blip_scores)"
   ]
  },
  {
   "cell_type": "markdown",
   "metadata": {
    "id": "hS35igYrGRfk"
   },
   "source": [
    "# Get BLIP image-caption scores from the whole dataset"
   ]
  },
  {
   "cell_type": "code",
   "execution_count": 10,
   "metadata": {
    "id": "QzxMKHOLGUnS"
   },
   "outputs": [
    {
     "name": "stderr",
     "output_type": "stream",
     "text": [
      "100%|██████████| 400/400 [03:46<00:00,  1.77it/s]\n"
     ]
    }
   ],
   "source": [
    "from tqdm import tqdm\n",
    "\n",
    "def get_all_blip_scores():  \n",
    "    winoground_blip_scores = [] \n",
    "    for id in tqdm(range(len(winoground))):\n",
    "        blip_scores = get_blip_scores(id=id)\n",
    "        winoground_blip_scores.append(blip_scores)\n",
    "\n",
    "    return winoground_blip_scores\n",
    "\n",
    "winoground_blip_scores = get_all_blip_scores()"
   ]
  },
  {
   "cell_type": "code",
   "execution_count": 11,
   "metadata": {
    "id": "z7avnKrUcqyg"
   },
   "outputs": [],
   "source": [
    "def save_results(filename, winoground_scores):\n",
    "    with open(filename, 'w') as f:\n",
    "        for scores in winoground_scores:\n",
    "            f.write(f'{{\"label\": \"{scores[\"id\"]}_c0_i0\", \"score\": {scores[\"c0_i0\"]}}}\\n')\n",
    "            f.write(f'{{\"label\": \"{scores[\"id\"]}_c1_i0\", \"score\": {scores[\"c1_i0\"]}}}\\n')\n",
    "            f.write(f'{{\"label\": \"{scores[\"id\"]}_c0_i1\", \"score\": {scores[\"c0_i1\"]}}}\\n')\n",
    "            f.write(f'{{\"label\": \"{scores[\"id\"]}_c1_i1\", \"score\": {scores[\"c1_i1\"]}}}\\n')\n",
    "\n",
    "# path = \"/content/drive/MyDrive/PhD/2022 Julen Etxaniz EHU/MAL/winoground/evaluation/\"\n",
    "path = \"../\"\n",
    "save_results(path + \"../results/scores/blip_b16_nlvr2.jsonl\", winoground_blip_scores)"
   ]
  },
  {
   "cell_type": "markdown",
   "metadata": {
    "id": "0vW99Wb8IR86"
   },
   "source": [
    "# Define the text, image, and group metrics, and compute the overall performance of BLIP"
   ]
  },
  {
   "cell_type": "code",
   "execution_count": 12,
   "metadata": {
    "id": "bOsR6mn1IXB_"
   },
   "outputs": [
    {
     "name": "stdout",
     "output_type": "stream",
     "text": [
      "BLIP scores:\n",
      "text score: 0.4025\n",
      "image score: 0.25\n",
      "group score: 0.185\n"
     ]
    }
   ],
   "source": [
    "def text_correct(result):\n",
    "    return result[\"c0_i0\"] > result[\"c1_i0\"] and result[\"c1_i1\"] > result[\"c0_i1\"]\n",
    "\n",
    "def image_correct(result):\n",
    "    return result[\"c0_i0\"] > result[\"c0_i1\"] and result[\"c1_i1\"] > result[\"c1_i0\"]\n",
    "\n",
    "def group_correct(result):\n",
    "    return image_correct(result) and text_correct(result)\n",
    "\n",
    "def print_performance(winoground_scores):\n",
    "    text_correct_count = 0\n",
    "    image_correct_count = 0\n",
    "    group_correct_count = 0\n",
    "    for result in winoground_scores:\n",
    "        text_correct_count += 1 if text_correct(result) else 0\n",
    "        image_correct_count += 1 if image_correct(result) else 0\n",
    "        group_correct_count += 1 if group_correct(result) else 0\n",
    "\n",
    "    denominator = len(winoground_scores)\n",
    "    print(\"text score:\", text_correct_count/denominator)\n",
    "    print(\"image score:\", image_correct_count/denominator)\n",
    "    print(\"group score:\", group_correct_count/denominator)\n",
    "\n",
    "print(\"BLIP scores:\")\n",
    "print_performance(winoground_blip_scores)"
   ]
  }
 ],
 "metadata": {
  "accelerator": "GPU",
  "colab": {
   "collapsed_sections": [],
   "name": "winoground_blip_b16_nlvr2.ipynb",
   "provenance": [
    {
     "file_id": "15wwOSte2CjTazdnCWYUm2VPlFbk2NGc0",
     "timestamp": 1657906746293
    }
   ]
  },
  "gpuClass": "standard",
  "kernelspec": {
   "display_name": "Python 3",
   "language": "python",
   "name": "python3"
  },
  "language_info": {
   "codemirror_mode": {
    "name": "ipython",
    "version": 3
   },
   "file_extension": ".py",
   "mimetype": "text/x-python",
   "name": "python",
   "nbconvert_exporter": "python",
   "pygments_lexer": "ipython3",
   "version": "3.6.3"
  },
  "vscode": {
   "interpreter": {
    "hash": "aee8b7b246df8f9039afb4144a1f6fd8d2ca17a180786b69acc140d282b71a49"
   }
  },
  "widgets": {
   "application/vnd.jupyter.widget-state+json": {
    "058d9657fb944818a93dcf0bd3fb1093": {
     "model_module": "@jupyter-widgets/controls",
     "model_module_version": "1.5.0",
     "model_name": "DescriptionStyleModel",
     "state": {
      "_model_module": "@jupyter-widgets/controls",
      "_model_module_version": "1.5.0",
      "_model_name": "DescriptionStyleModel",
      "_view_count": null,
      "_view_module": "@jupyter-widgets/base",
      "_view_module_version": "1.2.0",
      "_view_name": "StyleView",
      "description_width": ""
     }
    },
    "3aabf8ee103049458a37da200e881ae2": {
     "model_module": "@jupyter-widgets/controls",
     "model_module_version": "1.5.0",
     "model_name": "HBoxModel",
     "state": {
      "_dom_classes": [],
      "_model_module": "@jupyter-widgets/controls",
      "_model_module_version": "1.5.0",
      "_model_name": "HBoxModel",
      "_view_count": null,
      "_view_module": "@jupyter-widgets/controls",
      "_view_module_version": "1.5.0",
      "_view_name": "HBoxView",
      "box_style": "",
      "children": [
       "IPY_MODEL_489462c6fff9422c82dbf64a2e1fa1ae",
       "IPY_MODEL_d9b6c8a07c394fbcb68b22c370980000",
       "IPY_MODEL_70a137e48c394d66b9c6af5e9a7fbdac"
      ],
      "layout": "IPY_MODEL_e1a6986bca91488c8ef919feee8d23ec"
     }
    },
    "489462c6fff9422c82dbf64a2e1fa1ae": {
     "model_module": "@jupyter-widgets/controls",
     "model_module_version": "1.5.0",
     "model_name": "HTMLModel",
     "state": {
      "_dom_classes": [],
      "_model_module": "@jupyter-widgets/controls",
      "_model_module_version": "1.5.0",
      "_model_name": "HTMLModel",
      "_view_count": null,
      "_view_module": "@jupyter-widgets/controls",
      "_view_module_version": "1.5.0",
      "_view_name": "HTMLView",
      "description": "",
      "description_tooltip": null,
      "layout": "IPY_MODEL_66dd6562d1a84e27b20cdff0045e2242",
      "placeholder": "​",
      "style": "IPY_MODEL_abddffc9da084850a0d81d563e629090",
      "value": "100%"
     }
    },
    "4f4e1728fae942e4bdd67fa65e70f6da": {
     "model_module": "@jupyter-widgets/base",
     "model_module_version": "1.2.0",
     "model_name": "LayoutModel",
     "state": {
      "_model_module": "@jupyter-widgets/base",
      "_model_module_version": "1.2.0",
      "_model_name": "LayoutModel",
      "_view_count": null,
      "_view_module": "@jupyter-widgets/base",
      "_view_module_version": "1.2.0",
      "_view_name": "LayoutView",
      "align_content": null,
      "align_items": null,
      "align_self": null,
      "border": null,
      "bottom": null,
      "display": null,
      "flex": null,
      "flex_flow": null,
      "grid_area": null,
      "grid_auto_columns": null,
      "grid_auto_flow": null,
      "grid_auto_rows": null,
      "grid_column": null,
      "grid_gap": null,
      "grid_row": null,
      "grid_template_areas": null,
      "grid_template_columns": null,
      "grid_template_rows": null,
      "height": null,
      "justify_content": null,
      "justify_items": null,
      "left": null,
      "margin": null,
      "max_height": null,
      "max_width": null,
      "min_height": null,
      "min_width": null,
      "object_fit": null,
      "object_position": null,
      "order": null,
      "overflow": null,
      "overflow_x": null,
      "overflow_y": null,
      "padding": null,
      "right": null,
      "top": null,
      "visibility": null,
      "width": null
     }
    },
    "66dd6562d1a84e27b20cdff0045e2242": {
     "model_module": "@jupyter-widgets/base",
     "model_module_version": "1.2.0",
     "model_name": "LayoutModel",
     "state": {
      "_model_module": "@jupyter-widgets/base",
      "_model_module_version": "1.2.0",
      "_model_name": "LayoutModel",
      "_view_count": null,
      "_view_module": "@jupyter-widgets/base",
      "_view_module_version": "1.2.0",
      "_view_name": "LayoutView",
      "align_content": null,
      "align_items": null,
      "align_self": null,
      "border": null,
      "bottom": null,
      "display": null,
      "flex": null,
      "flex_flow": null,
      "grid_area": null,
      "grid_auto_columns": null,
      "grid_auto_flow": null,
      "grid_auto_rows": null,
      "grid_column": null,
      "grid_gap": null,
      "grid_row": null,
      "grid_template_areas": null,
      "grid_template_columns": null,
      "grid_template_rows": null,
      "height": null,
      "justify_content": null,
      "justify_items": null,
      "left": null,
      "margin": null,
      "max_height": null,
      "max_width": null,
      "min_height": null,
      "min_width": null,
      "object_fit": null,
      "object_position": null,
      "order": null,
      "overflow": null,
      "overflow_x": null,
      "overflow_y": null,
      "padding": null,
      "right": null,
      "top": null,
      "visibility": null,
      "width": null
     }
    },
    "70a137e48c394d66b9c6af5e9a7fbdac": {
     "model_module": "@jupyter-widgets/controls",
     "model_module_version": "1.5.0",
     "model_name": "HTMLModel",
     "state": {
      "_dom_classes": [],
      "_model_module": "@jupyter-widgets/controls",
      "_model_module_version": "1.5.0",
      "_model_name": "HTMLModel",
      "_view_count": null,
      "_view_module": "@jupyter-widgets/controls",
      "_view_module_version": "1.5.0",
      "_view_name": "HTMLView",
      "description": "",
      "description_tooltip": null,
      "layout": "IPY_MODEL_4f4e1728fae942e4bdd67fa65e70f6da",
      "placeholder": "​",
      "style": "IPY_MODEL_058d9657fb944818a93dcf0bd3fb1093",
      "value": " 1/1 [00:00&lt;00:00,  6.00it/s]"
     }
    },
    "939d8a36c2474d599a556828a195d731": {
     "model_module": "@jupyter-widgets/base",
     "model_module_version": "1.2.0",
     "model_name": "LayoutModel",
     "state": {
      "_model_module": "@jupyter-widgets/base",
      "_model_module_version": "1.2.0",
      "_model_name": "LayoutModel",
      "_view_count": null,
      "_view_module": "@jupyter-widgets/base",
      "_view_module_version": "1.2.0",
      "_view_name": "LayoutView",
      "align_content": null,
      "align_items": null,
      "align_self": null,
      "border": null,
      "bottom": null,
      "display": null,
      "flex": null,
      "flex_flow": null,
      "grid_area": null,
      "grid_auto_columns": null,
      "grid_auto_flow": null,
      "grid_auto_rows": null,
      "grid_column": null,
      "grid_gap": null,
      "grid_row": null,
      "grid_template_areas": null,
      "grid_template_columns": null,
      "grid_template_rows": null,
      "height": null,
      "justify_content": null,
      "justify_items": null,
      "left": null,
      "margin": null,
      "max_height": null,
      "max_width": null,
      "min_height": null,
      "min_width": null,
      "object_fit": null,
      "object_position": null,
      "order": null,
      "overflow": null,
      "overflow_x": null,
      "overflow_y": null,
      "padding": null,
      "right": null,
      "top": null,
      "visibility": null,
      "width": null
     }
    },
    "abddffc9da084850a0d81d563e629090": {
     "model_module": "@jupyter-widgets/controls",
     "model_module_version": "1.5.0",
     "model_name": "DescriptionStyleModel",
     "state": {
      "_model_module": "@jupyter-widgets/controls",
      "_model_module_version": "1.5.0",
      "_model_name": "DescriptionStyleModel",
      "_view_count": null,
      "_view_module": "@jupyter-widgets/base",
      "_view_module_version": "1.2.0",
      "_view_name": "StyleView",
      "description_width": ""
     }
    },
    "b31b506521804d889d9c940d2f8f7d17": {
     "model_module": "@jupyter-widgets/controls",
     "model_module_version": "1.5.0",
     "model_name": "ProgressStyleModel",
     "state": {
      "_model_module": "@jupyter-widgets/controls",
      "_model_module_version": "1.5.0",
      "_model_name": "ProgressStyleModel",
      "_view_count": null,
      "_view_module": "@jupyter-widgets/base",
      "_view_module_version": "1.2.0",
      "_view_name": "StyleView",
      "bar_color": null,
      "description_width": ""
     }
    },
    "d9b6c8a07c394fbcb68b22c370980000": {
     "model_module": "@jupyter-widgets/controls",
     "model_module_version": "1.5.0",
     "model_name": "FloatProgressModel",
     "state": {
      "_dom_classes": [],
      "_model_module": "@jupyter-widgets/controls",
      "_model_module_version": "1.5.0",
      "_model_name": "FloatProgressModel",
      "_view_count": null,
      "_view_module": "@jupyter-widgets/controls",
      "_view_module_version": "1.5.0",
      "_view_name": "ProgressView",
      "bar_style": "success",
      "description": "",
      "description_tooltip": null,
      "layout": "IPY_MODEL_939d8a36c2474d599a556828a195d731",
      "max": 1,
      "min": 0,
      "orientation": "horizontal",
      "style": "IPY_MODEL_b31b506521804d889d9c940d2f8f7d17",
      "value": 1
     }
    },
    "e1a6986bca91488c8ef919feee8d23ec": {
     "model_module": "@jupyter-widgets/base",
     "model_module_version": "1.2.0",
     "model_name": "LayoutModel",
     "state": {
      "_model_module": "@jupyter-widgets/base",
      "_model_module_version": "1.2.0",
      "_model_name": "LayoutModel",
      "_view_count": null,
      "_view_module": "@jupyter-widgets/base",
      "_view_module_version": "1.2.0",
      "_view_name": "LayoutView",
      "align_content": null,
      "align_items": null,
      "align_self": null,
      "border": null,
      "bottom": null,
      "display": null,
      "flex": null,
      "flex_flow": null,
      "grid_area": null,
      "grid_auto_columns": null,
      "grid_auto_flow": null,
      "grid_auto_rows": null,
      "grid_column": null,
      "grid_gap": null,
      "grid_row": null,
      "grid_template_areas": null,
      "grid_template_columns": null,
      "grid_template_rows": null,
      "height": null,
      "justify_content": null,
      "justify_items": null,
      "left": null,
      "margin": null,
      "max_height": null,
      "max_width": null,
      "min_height": null,
      "min_width": null,
      "object_fit": null,
      "object_position": null,
      "order": null,
      "overflow": null,
      "overflow_x": null,
      "overflow_y": null,
      "padding": null,
      "right": null,
      "top": null,
      "visibility": null,
      "width": null
     }
    }
   }
  }
 },
 "nbformat": 4,
 "nbformat_minor": 4
}
